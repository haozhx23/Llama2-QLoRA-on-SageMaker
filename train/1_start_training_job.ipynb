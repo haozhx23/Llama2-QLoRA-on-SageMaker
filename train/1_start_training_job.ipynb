{
 "cells": [
  {
   "cell_type": "code",
   "execution_count": null,
   "id": "34c0daa0-b9bf-4f9e-94c2-58d3722b45d8",
   "metadata": {
    "scrolled": true,
    "tags": []
   },
   "outputs": [],
   "source": [
    "# Restart kernel after pip install\n",
    "!pip install --upgrade sagemaker"
   ]
  },
  {
   "cell_type": "code",
   "execution_count": null,
   "id": "1d5fe393-f678-47a9-b6c9-8c0230d9211d",
   "metadata": {
    "tags": []
   },
   "outputs": [],
   "source": [
    "# download any train data\n",
    "!wget https://raw.githubusercontent.com/tatsu-lab/stanford_alpaca/main/alpaca_data.json"
   ]
  },
  {
   "cell_type": "code",
   "execution_count": null,
   "id": "137f851a",
   "metadata": {
    "tags": []
   },
   "outputs": [],
   "source": [
    "# download s5cmd for faster copying than 'aws s3 cp'\n",
    "!curl -L https://github.com/peak/s5cmd/releases/download/v2.0.0/s5cmd_2.0.0_Linux-64bit.tar.gz | tar -xz s5cmd"
   ]
  },
  {
   "cell_type": "code",
   "execution_count": null,
   "id": "a359e7a4-b0c1-4d28-a26a-8094be4e545b",
   "metadata": {
    "tags": []
   },
   "outputs": [],
   "source": [
    "!rm -rf src\n",
    "!mkdir -p src"
   ]
  },
  {
   "cell_type": "code",
   "execution_count": null,
   "id": "3bb7f6c6-797a-4870-a0d2-6e20d8608a9f",
   "metadata": {
    "tags": []
   },
   "outputs": [],
   "source": [
    "!mv s5cmd src/\n",
    "!mv alpaca_data.json src/\n",
    "!mv train.py src/\n",
    "!mv requirements.txt src/"
   ]
  },
  {
   "cell_type": "code",
   "execution_count": null,
   "id": "280260a3-f11b-4f7f-aa2b-ad9a71973df4",
   "metadata": {
    "tags": []
   },
   "outputs": [],
   "source": [
    "import sagemaker\n",
    "import boto3\n",
    "from sagemaker import get_execution_role\n",
    "\n",
    "sess = sagemaker.Session()\n",
    "role = get_execution_role()\n",
    "sagemaker_default_bucket = sess.default_bucket()\n",
    "region = sess.boto_session.region_name"
   ]
  },
  {
   "cell_type": "code",
   "execution_count": null,
   "id": "1caaa88e-1b53-43f1-9aac-f662a84e4f30",
   "metadata": {
    "scrolled": true,
    "tags": []
   },
   "outputs": [],
   "source": [
    "import time\n",
    "from sagemaker.estimator import Estimator\n",
    "from datetime import datetime\n",
    "\n",
    "# Pre-built dockers: https://github.com/aws/deep-learning-containers/blob/master/available_images.md\n",
    "image_uri = '763104351884.dkr.ecr.us-east-1.amazonaws.com/pytorch-training:2.0.0-gpu-py310-cu118-ubuntu20.04-sagemaker'\n",
    "\n",
    "instance_count = 1\n",
    "instance_type = 'ml.g5.4xlarge'\n",
    "\n",
    "ts_str = str(datetime.now().strftime(\"%Y-%m-%d-%H-%M-%S\"))\n",
    "model_output_path = f's3://{sagemaker_default_bucket}/output-models/bloke-llama2-7b-qlora/{ts_str}/' \n",
    "\n",
    "environment = {\n",
    "    # 'NODE_NUMBER':str(instance_count),\n",
    "    'MODEL_S3_PATH': f's3://{sagemaker_default_bucket}/bloke-llama2-7b-fp16/*', # source model files\n",
    "    'OUTPUT_MODEL_S3_PATH': model_output_path # destination\n",
    "}\n",
    "\n",
    "hyp_param = {\n",
    "    'seed':99,\n",
    "    'data_dir':'/opt/ml/code/alpaca_data.json',\n",
    "    'per_device_train_batch_size':1,\n",
    "    'max_steps':20\n",
    "}\n",
    "\n",
    "estimator = Estimator(role=role,\n",
    "                      entry_point='train.py',\n",
    "                      source_dir='./src',\n",
    "                      base_job_name='llama2-qlora-train',\n",
    "                      instance_count=instance_count,\n",
    "                      instance_type=instance_type,\n",
    "                      image_uri=image_uri,\n",
    "                      environment=environment,\n",
    "                      hyperparameters=hyp_param,\n",
    "                      max_run=2*24*3600, #任务最大存续时间，默认2day，需要提交ticket提升quota最大28天\n",
    "                      keep_alive_period_in_seconds=3600, #warmpool，为下一次训练保持机器&镜像（滚动续期，最大1hour）；需要开quota。\n",
    "                      disable_profiler=True,\n",
    "                      debugger_hook_config=False)\n",
    "\n",
    "\n",
    "# data in channel will be automatically copied to training node, e.g. /opt/ml/input/data/trainabc\n",
    "# input_channel = {'trainabc': 's3://<s3_bucket>/datasets/cn_alpaca_jsonline_data/'}\n",
    "# estimator.fit(input_channel)\n",
    "\n",
    "estimator.fit()"
   ]
  },
  {
   "cell_type": "code",
   "execution_count": null,
   "id": "3ed071eb-ad45-4474-aa65-feb67e3b969a",
   "metadata": {
    "tags": []
   },
   "outputs": [],
   "source": [
    "# Copy the model output path to LMI option.s3url\n",
    "print('PATH for LMI inference option.s3url:')\n",
    "print(model_output_path)"
   ]
  },
  {
   "cell_type": "code",
   "execution_count": null,
   "id": "5376c516-6058-4872-b113-dcab8d73b94a",
   "metadata": {
    "tags": []
   },
   "outputs": [],
   "source": [
    "!aws s3 ls {model_output_path}"
   ]
  },
  {
   "cell_type": "code",
   "execution_count": null,
   "id": "334c8768-97ff-453c-97d5-9fbc8fe29d9c",
   "metadata": {},
   "outputs": [],
   "source": []
  }
 ],
 "metadata": {
  "kernelspec": {
   "display_name": "conda_python3",
   "language": "python",
   "name": "conda_python3"
  },
  "language_info": {
   "codemirror_mode": {
    "name": "ipython",
    "version": 3
   },
   "file_extension": ".py",
   "mimetype": "text/x-python",
   "name": "python",
   "nbconvert_exporter": "python",
   "pygments_lexer": "ipython3",
   "version": "3.10.10"
  }
 },
 "nbformat": 4,
 "nbformat_minor": 5
}
