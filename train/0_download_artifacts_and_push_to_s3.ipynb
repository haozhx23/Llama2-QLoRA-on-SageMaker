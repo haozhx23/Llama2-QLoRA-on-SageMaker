{
 "cells": [
  {
   "cell_type": "markdown",
   "id": "5f018216-1628-404f-8a72-5c9999c7709d",
   "metadata": {},
   "source": [
    "## Dependency prep."
   ]
  },
  {
   "cell_type": "markdown",
   "id": "75a3abf4-4451-44b1-bb36-5e9936d2ac5a",
   "metadata": {},
   "source": [
    "Install a pip dependency for later downloading of model artifacts"
   ]
  },
  {
   "cell_type": "code",
   "execution_count": null,
   "id": "0a1a8ce9-ce47-46cf-8d3c-815be8952c60",
   "metadata": {},
   "outputs": [],
   "source": [
    "!pip install huggingface_hub"
   ]
  },
  {
   "cell_type": "markdown",
   "id": "07c0ae5b-069a-4b1c-b555-ba64e03435cf",
   "metadata": {},
   "source": [
    "Prepare train data, here we use an aligned corpus in stanford_alpaca repo"
   ]
  },
  {
   "cell_type": "code",
   "execution_count": null,
   "id": "a94b694e-7c36-4ade-af31-12de1ca10d8a",
   "metadata": {},
   "outputs": [],
   "source": [
    "!wget https://raw.githubusercontent.com/tatsu-lab/stanford_alpaca/main/alpaca_data.json"
   ]
  },
  {
   "cell_type": "markdown",
   "id": "66a0a813-ed39-4ea3-b957-1a92472690a2",
   "metadata": {},
   "source": [
    "Download s5cmd for faster S3 transfer than 'aws s3 cp'"
   ]
  },
  {
   "cell_type": "code",
   "execution_count": null,
   "id": "81d9831c-5a85-4eea-81a1-c4fc5a756f15",
   "metadata": {},
   "outputs": [],
   "source": [
    "!curl -L https://github.com/peak/s5cmd/releases/download/v2.0.0/s5cmd_2.0.0_Linux-64bit.tar.gz | tar -xz s5cmd"
   ]
  },
  {
   "cell_type": "markdown",
   "id": "b32c1305-70e9-4318-a63a-5222a8576eeb",
   "metadata": {},
   "source": [
    "## Dowloading and push to S3"
   ]
  },
  {
   "cell_type": "markdown",
   "id": "7c57c885-432f-4248-8886-aa6d7c10e9c3",
   "metadata": {},
   "source": [
    "Use SageMaker default bucket, or ANY S3 bucket"
   ]
  },
  {
   "cell_type": "code",
   "execution_count": null,
   "id": "3d941d62-8522-418b-822f-99eb161a2856",
   "metadata": {},
   "outputs": [],
   "source": [
    "import sagemaker\n",
    "sess = sagemaker.Session()\n",
    "sagemaker_default_bucket = sess.default_bucket()\n",
    "print(sagemaker_default_bucket)"
   ]
  },
  {
   "cell_type": "code",
   "execution_count": null,
   "id": "610962b6-8cda-4396-b117-73be8cc95803",
   "metadata": {
    "scrolled": true,
    "tags": []
   },
   "outputs": [],
   "source": [
    "from huggingface_hub import snapshot_download\n",
    "from pathlib import Path\n",
    "\n",
    "local_cache_path = Path(\"./llama2\")\n",
    "local_cache_path.mkdir(exist_ok=True)\n",
    "\n",
    "model_name = \"TheBloke/Llama-2-7B-fp16\" # choose a 3rd party hf model\n",
    "\n",
    "# Only download pytorch checkpoint files\n",
    "allow_patterns = [\"*.json\", \"*.pt\", \"*.bin\", \"*.model\"]\n",
    "\n",
    "model_download_path = snapshot_download(\n",
    "    repo_id=model_name,\n",
    "    cache_dir=local_cache_path,\n",
    "    allow_patterns=allow_patterns,\n",
    ")"
   ]
  },
  {
   "cell_type": "markdown",
   "id": "55a67158-583c-49bd-a979-98f96d923ef4",
   "metadata": {},
   "source": [
    "Find where the model artifacts (e.g. config.json, *.bin) sits and copy the path to following variables"
   ]
  },
  {
   "cell_type": "code",
   "execution_count": null,
   "id": "95e65d1e-f415-4eed-bbd4-0e92bda3efdc",
   "metadata": {
    "tags": []
   },
   "outputs": [],
   "source": [
    "snapshot_model_path = 'llama2/models--TheBloke--Llama-2-7B-fp16/snapshots/ec92360670debf11267ccece99b8e65a8c723802' # change to the correct path model exists\n",
    "s3_destination_path = f's3://{sagemaker_default_bucket}/bloke-llama2-7b-fp16/' # change to your own s3 path\n"
   ]
  },
  {
   "cell_type": "markdown",
   "id": "0bc2f29c-9c7c-40e6-8f4e-5fd0b541d7e5",
   "metadata": {},
   "source": [
    "Copy the model files from notebook instance to S3, as training instances will access model artifacts from S3 (NOT from this notebook)"
   ]
  },
  {
   "cell_type": "code",
   "execution_count": null,
   "id": "be5e4a4e-7bda-4eb9-bf88-0b3347c7fb83",
   "metadata": {
    "scrolled": true,
    "tags": []
   },
   "outputs": [],
   "source": [
    "!aws s3 cp {snapshot_model_path} {s3_destination_path} --recursive"
   ]
  },
  {
   "cell_type": "markdown",
   "id": "fe641b84-3e22-4fbc-bae2-cd893315bf80",
   "metadata": {},
   "source": [
    "(Optional) Use s5cmd app for faster S3 data transfer"
   ]
  },
  {
   "cell_type": "code",
   "execution_count": null,
   "id": "f57257a2-f44e-431a-afac-8227031e565a",
   "metadata": {},
   "outputs": [],
   "source": [
    "# !chmod +x ./s5cmd\n",
    "# !./s5cmd sync <Source> <Destination>\n"
   ]
  },
  {
   "cell_type": "markdown",
   "id": "82d8e50a-9e6d-4632-b1f7-65982055238d",
   "metadata": {},
   "source": [
    "Have to release the Notebook Instance Storage"
   ]
  },
  {
   "cell_type": "code",
   "execution_count": null,
   "id": "645d28f2-f9d1-474a-a810-cbacc8a641af",
   "metadata": {},
   "outputs": [],
   "source": [
    "!rm -rf llama2"
   ]
  },
  {
   "cell_type": "code",
   "execution_count": null,
   "id": "911c4a97-bd59-4ccf-ac71-29c5e56928b5",
   "metadata": {},
   "outputs": [],
   "source": []
  }
 ],
 "metadata": {
  "kernelspec": {
   "display_name": "conda_python3",
   "language": "python",
   "name": "conda_python3"
  },
  "language_info": {
   "codemirror_mode": {
    "name": "ipython",
    "version": 3
   },
   "file_extension": ".py",
   "mimetype": "text/x-python",
   "name": "python",
   "nbconvert_exporter": "python",
   "pygments_lexer": "ipython3",
   "version": "3.10.10"
  }
 },
 "nbformat": 4,
 "nbformat_minor": 5
}
