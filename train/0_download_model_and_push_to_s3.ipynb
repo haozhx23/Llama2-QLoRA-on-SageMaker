{
 "cells": [
  {
   "cell_type": "code",
   "execution_count": null,
   "id": "5924b886-0b75-4bd2-ba1e-d105da666eed",
   "metadata": {},
   "outputs": [],
   "source": [
    "!pip install huggingface_hub"
   ]
  },
  {
   "cell_type": "code",
   "execution_count": null,
   "id": "3d941d62-8522-418b-822f-99eb161a2856",
   "metadata": {},
   "outputs": [],
   "source": [
    "import sagemaker\n",
    "import boto3\n",
    "from sagemaker import get_execution_role\n",
    "\n",
    "sess = sagemaker.Session()\n",
    "role = get_execution_role()\n",
    "sagemaker_default_bucket = sess.default_bucket()\n",
    "region = sess.boto_session.region_name\n",
    "print(sagemaker_default_bucket)"
   ]
  },
  {
   "cell_type": "code",
   "execution_count": null,
   "id": "610962b6-8cda-4396-b117-73be8cc95803",
   "metadata": {
    "scrolled": true,
    "tags": []
   },
   "outputs": [],
   "source": [
    "from huggingface_hub import snapshot_download\n",
    "from pathlib import Path\n",
    "\n",
    "local_cache_path = Path(\"./llama2\")\n",
    "local_cache_path.mkdir(exist_ok=True)\n",
    "\n",
    "model_name = \"TheBloke/Llama-2-7B-fp16\" # choose a 3rd party hf model\n",
    "\n",
    "# Only download pytorch checkpoint files\n",
    "allow_patterns = [\"*.json\", \"*.pt\", \"*.bin\", \"*.model\"]\n",
    "\n",
    "model_download_path = snapshot_download(\n",
    "    repo_id=model_name,\n",
    "    cache_dir=local_cache_path,\n",
    "    allow_patterns=allow_patterns,\n",
    ")"
   ]
  },
  {
   "cell_type": "code",
   "execution_count": null,
   "id": "95e65d1e-f415-4eed-bbd4-0e92bda3efdc",
   "metadata": {
    "tags": []
   },
   "outputs": [],
   "source": [
    "snapshot_model_path = 'llama2/models--TheBloke--Llama-2-7B-fp16/snapshots/ec92360670debf11267ccece99b8e65a8c723802' # change to the correct path model exists\n",
    "s3_destination_path = f's3://{sagemaker_default_bucket}/bloke-llama2-7b-fp16/' # change to your own s3 path\n"
   ]
  },
  {
   "cell_type": "code",
   "execution_count": null,
   "id": "be5e4a4e-7bda-4eb9-bf88-0b3347c7fb83",
   "metadata": {
    "scrolled": true,
    "tags": []
   },
   "outputs": [],
   "source": [
    "!aws s3 cp {snapshot_model_path} {s3_destination_path} --recursive"
   ]
  },
  {
   "cell_type": "code",
   "execution_count": null,
   "id": "645d28f2-f9d1-474a-a810-cbacc8a641af",
   "metadata": {},
   "outputs": [],
   "source": [
    "!rm -rf llama2"
   ]
  },
  {
   "cell_type": "code",
   "execution_count": null,
   "id": "911c4a97-bd59-4ccf-ac71-29c5e56928b5",
   "metadata": {},
   "outputs": [],
   "source": []
  }
 ],
 "metadata": {
  "kernelspec": {
   "display_name": "conda_python3",
   "language": "python",
   "name": "conda_python3"
  },
  "language_info": {
   "codemirror_mode": {
    "name": "ipython",
    "version": 3
   },
   "file_extension": ".py",
   "mimetype": "text/x-python",
   "name": "python",
   "nbconvert_exporter": "python",
   "pygments_lexer": "ipython3",
   "version": "3.10.10"
  }
 },
 "nbformat": 4,
 "nbformat_minor": 5
}
