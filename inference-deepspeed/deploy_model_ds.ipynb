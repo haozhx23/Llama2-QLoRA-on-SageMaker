{
 "cells": [
  {
   "cell_type": "markdown",
   "id": "88ae6f91-a88e-4a93-bc46-d82d1798b28d",
   "metadata": {
    "tags": []
   },
   "source": [
    "# Model deployment with HuggingFace Accelerate engine integrated in LMI (Large Moder Inference Container) "
   ]
  },
  {
   "cell_type": "code",
   "execution_count": null,
   "id": "98b732fc-bd00-45ed-8f92-4042d1659739",
   "metadata": {},
   "outputs": [],
   "source": [
    "import sagemaker\n",
    "from sagemaker import image_uris\n",
    "import boto3\n",
    "import os\n",
    "import time\n",
    "import json\n",
    "from pathlib import Path\n",
    "from sagemaker.utils import name_from_base\n",
    "\n",
    "role = sagemaker.get_execution_role()  # execution role for the endpoint\n",
    "sess = sagemaker.session.Session()  # sagemaker session for interacting with different AWS APIs\n",
    "default_bucket = sess.default_bucket()  # bucket to house artifacts\n",
    "region = sess._region_name"
   ]
  },
  {
   "cell_type": "markdown",
   "id": "4834ed43-52dc-4d56-840a-33fa51a8fd89",
   "metadata": {},
   "source": [
    "<mark>**NOTE**\n",
    ": Copy the S3 path where the Training Job saves the model artifacts to. And give it to the option.s3url entry.</mark>\n",
    "\n",
    "\n",
    "In this sample notebook, we use <mark>DeepSpeed</mark> engine."
   ]
  },
  {
   "cell_type": "code",
   "execution_count": null,
   "id": "9799c5c5-c739-477d-aff5-d51cb69a01b9",
   "metadata": {
    "tags": []
   },
   "outputs": [],
   "source": [
    "%%writefile serving.properties\n",
    "# engine=Python\n",
    "engine=DeepSpeed\n",
    "option.tensor_parallel_degree=1\n",
    "#option.model_id=TheBloke/Wizard-Vicuna-7B-Uncensored-HF\n",
    "option.s3url=s3://COPY_FROM_TRAINING_SCRIPT/"
   ]
  },
  {
   "cell_type": "code",
   "execution_count": null,
   "id": "68a3c862-a19e-4755-821b-00702c887f30",
   "metadata": {
    "tags": []
   },
   "outputs": [],
   "source": [
    "# Construct code artifacts tar\n",
    "code_tarname = 'llama2-qlora-merged-ds'\n",
    "\n",
    "!mkdir -p {code_tarname}\n",
    "!rm -rf {code_tarname}.tar.gz\n",
    "!rm -rf {code_tarname}/.ipynb_checkpoints\n",
    "\n",
    "!mv model.py {code_tarname}/\n",
    "!mv requirements.txt {code_tarname}/\n",
    "!mv serving.properties {code_tarname}/\n",
    "!tar czvf {code_tarname}.tar.gz {code_tarname}/"
   ]
  },
  {
   "cell_type": "code",
   "execution_count": null,
   "id": "e4b39552-031a-4cef-b3d8-f416ef5fb38b",
   "metadata": {},
   "outputs": [],
   "source": [
    "s3_code_artifact = sess.upload_data(f\"{code_tarname}.tar.gz\", \n",
    "                                    default_bucket, \n",
    "                                    sagemaker.utils.name_from_base(\"tmp/v0\"))"
   ]
  },
  {
   "cell_type": "code",
   "execution_count": null,
   "id": "955fce1c-e119-4e4f-ae57-c50568d04e94",
   "metadata": {
    "tags": []
   },
   "outputs": [],
   "source": [
    "# Specify a inference container version, \n",
    "# - https://github.com/aws/deep-learning-containers/blob/master/available_images.md#large-model-inference-containers\n",
    "inference_image_uri = f\"763104351884.dkr.ecr.{region}.amazonaws.com/djl-inference:0.23.0-deepspeed0.9.5-cu118\"\n",
    "\n",
    "# name a SageMaker Endpoint\n",
    "endpoint_name = sagemaker.utils.name_from_base(code_tarname)"
   ]
  },
  {
   "cell_type": "code",
   "execution_count": null,
   "id": "b733c70d-272a-4bf0-8b80-7f05222efef6",
   "metadata": {
    "tags": []
   },
   "outputs": [],
   "source": [
    "from sagemaker.model import Model\n",
    "\n",
    "model = Model(image_uri=inference_image_uri,\n",
    "              model_data=s3_code_artifact, \n",
    "              role=role)"
   ]
  },
  {
   "cell_type": "code",
   "execution_count": null,
   "id": "f4674ec1-7872-47e3-80ee-9597464a88ca",
   "metadata": {},
   "outputs": [],
   "source": [
    "model.deploy(initial_instance_count = 1,\n",
    "             instance_type = 'ml.g4dn.xlarge', \n",
    "             endpoint_name = endpoint_name,\n",
    "             container_startup_health_check_timeout = 900\n",
    "            )"
   ]
  },
  {
   "cell_type": "markdown",
   "id": "4152e2c8-53fd-4429-9484-e51e1e29a25e",
   "metadata": {},
   "source": [
    "#### Init predictor and invoke specified endpoint"
   ]
  },
  {
   "cell_type": "code",
   "execution_count": null,
   "id": "74dfa03d-318e-4a4a-8892-c0a250765d44",
   "metadata": {
    "tags": []
   },
   "outputs": [],
   "source": [
    "from sagemaker import serializers, deserializers\n",
    "\n",
    "# Or copy endpoint name from SageMaker console for direct invocation\n",
    "# endpoint_name = 'llama2-merge-model-2023-08-19-04-42-02-574'\n",
    "\n",
    "predictor = sagemaker.Predictor(\n",
    "            endpoint_name=endpoint_name,\n",
    "            sagemaker_session=sess,\n",
    "            serializer=serializers.JSONSerializer(),\n",
    "            deserializer=deserializers.JSONDeserializer(),\n",
    "            )"
   ]
  },
  {
   "cell_type": "code",
   "execution_count": null,
   "id": "c691bb4d-124c-4f5a-a22c-dbcfae44b4a8",
   "metadata": {
    "tags": []
   },
   "outputs": [],
   "source": [
    "predictor.predict(\n",
    "    {\"inputs\": [\"tuna sandwich nutritional content is \", \"I need to cook a good pizza, so \"], \n",
    "     \"parameters\": {\"max_new_tokens\": 200}}\n",
    ")"
   ]
  },
  {
   "cell_type": "code",
   "execution_count": null,
   "id": "9d4d0c3e-1d1e-42a9-a1fb-8a186cc0f840",
   "metadata": {},
   "outputs": [],
   "source": [
    "%%timeit -n3 -r1\n",
    "predictor.predict(\n",
    "    {\"inputs\": \"tuna sandwich nutritional content is \", \n",
    "     \"parameters\": {\"max_new_tokens\": 200}}\n",
    ")"
   ]
  },
  {
   "cell_type": "code",
   "execution_count": null,
   "id": "bb4ef1f7-8721-4929-9b1e-52d51da3d80a",
   "metadata": {},
   "outputs": [],
   "source": []
  }
 ],
 "metadata": {
  "kernelspec": {
   "display_name": "conda_python3",
   "language": "python",
   "name": "conda_python3"
  },
  "language_info": {
   "codemirror_mode": {
    "name": "ipython",
    "version": 3
   },
   "file_extension": ".py",
   "mimetype": "text/x-python",
   "name": "python",
   "nbconvert_exporter": "python",
   "pygments_lexer": "ipython3",
   "version": "3.10.10"
  }
 },
 "nbformat": 4,
 "nbformat_minor": 5
}
